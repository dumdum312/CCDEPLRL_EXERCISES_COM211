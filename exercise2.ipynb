{
  "nbformat": 4,
  "nbformat_minor": 0,
  "metadata": {
    "colab": {
      "provenance": [],
      "include_colab_link": true
    },
    "kernelspec": {
      "name": "python3",
      "display_name": "Python 3"
    },
    "language_info": {
      "name": "python"
    }
  },
  "cells": [
    {
      "cell_type": "markdown",
      "metadata": {
        "id": "view-in-github",
        "colab_type": "text"
      },
      "source": [
        "<a href=\"https://colab.research.google.com/github/dumdum312/CCDEPLRL_EXERCISES_COM211/blob/main/exercise2.ipynb\" target=\"_parent\"><img src=\"https://colab.research.google.com/assets/colab-badge.svg\" alt=\"Open In Colab\"/></a>"
      ]
    },
    {
      "cell_type": "markdown",
      "source": [
        "# Exercise 2"
      ],
      "metadata": {
        "id": "tqFPmGbJ7Oah"
      }
    },
    {
      "cell_type": "markdown",
      "source": [
        "\n",
        "## Forward Pass and Backward Pass"
      ],
      "metadata": {
        "id": "cUkdx6a498S8"
      }
    },
    {
      "cell_type": "markdown",
      "source": [
        "<img src=\"https://github.com/robitussin/CCDEPLRL_EXERCISES/blob/main/images/exercise2.png?raw=true\"/>"
      ],
      "metadata": {
        "id": "0Q5Io34f-x38"
      }
    },
    {
      "cell_type": "markdown",
      "source": [
        "<img src=\"\"/>"
      ],
      "metadata": {
        "id": "-ZTBRmkM7JMR"
      }
    },
    {
      "cell_type": "markdown",
      "source": [
        "1. What is the predicted output? (`20 points`)"
      ],
      "metadata": {
        "id": "7HD5MNgg7hIu"
      }
    },
    {
      "cell_type": "code",
      "execution_count": 4,
      "metadata": {
        "id": "2cbutiml5cm_",
        "colab": {
          "base_uri": "https://localhost:8080/"
        },
        "outputId": "c19a6cc5-07c0-4610-c445-76605b164e18"
      },
      "outputs": [
        {
          "output_type": "stream",
          "name": "stdout",
          "text": [
            "4.0\n"
          ]
        }
      ],
      "source": [
        "# put your answer here\n",
        "z1 = 2.0\n",
        "w1 = 2.0\n",
        "y = 1\n",
        "z2= w1*z1\n",
        "\n",
        "print(z2)"
      ]
    },
    {
      "cell_type": "markdown",
      "source": [
        "2. Find the loss using the Mean Squared Error (MSE) function (`20 points`)"
      ],
      "metadata": {
        "id": "JTh2z2v97k0J"
      }
    },
    {
      "cell_type": "code",
      "source": [
        "# put your answer here\n",
        "c = (z2-y)**2\n",
        "print(c)"
      ],
      "metadata": {
        "id": "F2D7opAr7t3U",
        "colab": {
          "base_uri": "https://localhost:8080/"
        },
        "outputId": "5e3cb079-f953-4161-882d-e51f48210bdf"
      },
      "execution_count": 6,
      "outputs": [
        {
          "output_type": "stream",
          "name": "stdout",
          "text": [
            "9.0\n"
          ]
        }
      ]
    },
    {
      "cell_type": "markdown",
      "source": [
        "3. What is the derivative of $z_{2}$ with respect to $w_{1}$? (`20 points`)"
      ],
      "metadata": {
        "id": "wz5D8wEl7wtT"
      }
    },
    {
      "cell_type": "code",
      "source": [
        "# put your answer here\n",
        "\n",
        "z2w1 = z1\n",
        "print(z2w1)"
      ],
      "metadata": {
        "id": "n8Q_9JJ57xFL",
        "colab": {
          "base_uri": "https://localhost:8080/"
        },
        "outputId": "2d0e4788-89ed-4178-d084-e62f9e267874"
      },
      "execution_count": 10,
      "outputs": [
        {
          "output_type": "stream",
          "name": "stdout",
          "text": [
            "2.0\n"
          ]
        }
      ]
    },
    {
      "cell_type": "markdown",
      "source": [
        "4. What is the derivative of the loss with respect to $z_{2}$? (`20 points`)"
      ],
      "metadata": {
        "id": "HVpt0n-E9TIx"
      }
    },
    {
      "cell_type": "code",
      "source": [
        "# put your answer here\n",
        "\n",
        "dCz2 = 2*(z2-y)\n",
        "print(dCz2)"
      ],
      "metadata": {
        "id": "KM4fEL059grQ",
        "colab": {
          "base_uri": "https://localhost:8080/"
        },
        "outputId": "a4ee5aeb-39fc-4295-c559-c24953444299"
      },
      "execution_count": 9,
      "outputs": [
        {
          "output_type": "stream",
          "name": "stdout",
          "text": [
            "6.0\n"
          ]
        }
      ]
    },
    {
      "cell_type": "markdown",
      "source": [
        "5. What is the derivative of the loss with respect to $w_{1}$? (`20 points`)"
      ],
      "metadata": {
        "id": "hlO5xdMx9hhl"
      }
    },
    {
      "cell_type": "code",
      "source": [
        "# put your answer here\n",
        "\n",
        "dCw1 = z2w1 * dCz2\n",
        "print(dCw1)"
      ],
      "metadata": {
        "id": "-xP2grHW9hxK",
        "colab": {
          "base_uri": "https://localhost:8080/"
        },
        "outputId": "21e4993a-f2bf-448e-a465-039e0e6ad030"
      },
      "execution_count": 11,
      "outputs": [
        {
          "output_type": "stream",
          "name": "stdout",
          "text": [
            "12.0\n"
          ]
        }
      ]
    }
  ]
}